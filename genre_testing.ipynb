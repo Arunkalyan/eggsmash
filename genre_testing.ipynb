{
 "cells": [
  {
   "cell_type": "code",
   "execution_count": 2,
   "metadata": {
    "collapsed": true
   },
   "outputs": [],
   "source": [
    "import wiki_table_extract as wt\n",
    "import pandas as pd\n",
    "import os"
   ]
  },
  {
   "cell_type": "code",
   "execution_count": 8,
   "metadata": {
    "collapsed": true
   },
   "outputs": [],
   "source": [
    "def get_genre_from_summary(plotFile):\n",
    "        \n",
    "    # get first sentense\n",
    "    movieListDF = pd.read_csv(\"all_tamil_movies_1.csv\")\n",
    "\n",
    "    return movieGenreDF\n",
    "\n",
    "def find_between( s, first, last ):\n",
    "    try:\n",
    "        start = s.index( first ) + len( first )\n",
    "        end = s.index( last, start )\n",
    "        return s[start:end]\n",
    "    except ValueError:\n",
    "        return \"\"\n",
    "\n",
    "def find_between_r( s, first, last ):\n",
    "    try:\n",
    "        start = s.rindex( first ) + len( first )\n",
    "        end = s.rindex( last, start )\n",
    "        return s[start:end]\n",
    "    except ValueError:\n",
    "        return \"\""
   ]
  },
  {
   "cell_type": "code",
   "execution_count": 3,
   "metadata": {},
   "outputs": [
    {
     "name": "stdout",
     "output_type": "stream",
     "text": [
      "Processed Downloads/Tamil/DataframeCSV/Tamil_movie_text_contents1.csv\n",
      "Processed Downloads/Tamil/DataframeCSV/Tamil_movie_text_contents2.csv\n",
      "Processed Downloads/Tamil/DataframeCSV/Tamil_movie_text_contents3.csv\n",
      "Processed Downloads/Tamil/DataframeCSV/Tamil_movie_text_contents4.csv\n",
      "Processed Downloads/Tamil/DataframeCSV/Tamil_movie_text_contents5.csv\n",
      "Processed Downloads/Tamil/DataframeCSV/Tamil_movie_text_contents6.csv\n"
     ]
    }
   ],
   "source": [
    "lang = 'Tamil'\n",
    "\n",
    "# combine, movie genre information\n",
    "# Get Config info\n",
    "config_dir = 'configuration/'\n",
    "config_file = 'config.json'\n",
    "config = wt.get_config(config_dir,config_file)\n",
    "movieCombFile = config['dataframe_dir'].replace('{LANG}',lang) + config['df_combined_file'].replace('{LANG}',lang)\n",
    "\n",
    "# Movie Dataframe\n",
    "movieListDF =  pd.read_csv(movieCombFile)\n",
    "wikiContentsDF = pd.DataFrame()\n",
    "\n",
    "# for multiple files\n",
    "wkContIndex = 1\n",
    "while ( wkContIndex != 0 ):\n",
    "    \n",
    "    wikiContentsFile = config['dataframe_dir'].replace('{LANG}',lang) + config['df_wiki_contents_file'].replace('{LANG}',lang).replace('{INCR}',str(wkContIndex))\n",
    "    if not os.path.exists(wikiContentsFile):\n",
    "        wkContIndex = 0\n",
    "    else:\n",
    "        tempWikiContentsDF = pd.read_csv(wikiContentsFile)\n",
    "        wikiContentsDF = wikiContentsDF.append(tempWikiContentsDF)\n",
    "        wkContIndex+=1\n",
    "        print (\"Processed \" + wikiContentsFile)\n"
   ]
  },
  {
   "cell_type": "code",
   "execution_count": 4,
   "metadata": {},
   "outputs": [
    {
     "data": {
      "text/plain": [
       "Index(['Unnamed: 0', 'index', 'Cast', 'Director', 'EntityID', 'Genre',\n",
       "       'Language', 'Music', 'Opening', 'Production', 'TableFilename', 'Title',\n",
       "       'WikiLink'],\n",
       "      dtype='object')"
      ]
     },
     "execution_count": 4,
     "metadata": {},
     "output_type": "execute_result"
    }
   ],
   "source": [
    "# How many Genres are we able to fill\n",
    "# Get Genres for missing Genres\n",
    "# Get from summary\n",
    "movieListDF.columns"
   ]
  },
  {
   "cell_type": "code",
   "execution_count": 5,
   "metadata": {},
   "outputs": [
    {
     "data": {
      "text/plain": [
       "Index(['Unnamed: 0', 'EntityID', 'WikiTitleLink', 'Title', 'Year', 'Summary',\n",
       "       'OriginalPlot'],\n",
       "      dtype='object')"
      ]
     },
     "execution_count": 5,
     "metadata": {},
     "output_type": "execute_result"
    }
   ],
   "source": [
    "wikiContentsDF.columns"
   ]
  },
  {
   "cell_type": "code",
   "execution_count": 6,
   "metadata": {
    "collapsed": true
   },
   "outputs": [],
   "source": [
    "# Need EntityID, Genre, Summary and OriginalPlot\n",
    "genrePlotDF = pd.merge(movieListDF[['EntityID', 'Genre']], wikiContentsDF[['EntityID','Summary','OriginalPlot']], on=['EntityID'],how='left')"
   ]
  },
  {
   "cell_type": "code",
   "execution_count": null,
   "metadata": {
    "collapsed": true
   },
   "outputs": [],
   "source": [
    "#genrePlotDF.to_csv('test_genre.csv')"
   ]
  },
  {
   "cell_type": "code",
   "execution_count": 9,
   "metadata": {},
   "outputs": [],
   "source": [
    "genreCnt = []\n",
    "    \n",
    "for index, row in genrePlotDF.iterrows():\n",
    "    summary = row['Summary']\n",
    "    plot = row['OriginalPlot']\n",
    "    genre = row['Genre']\n",
    "    entityID = row['EntityID']\n",
    "    extractedGenre = (find_between(str(summary),lang,\"film\")).lower()\n",
    "    \n",
    "    #if len (extractedGenre) >0 and len(extractedGenre) <= 30 and \n",
    "\n",
    "    genrelist = ['drama','romantic','romance','action','comedy','comic','mythological','historical','adventure','thriller','crime','psychological','science','fantasy']\n",
    "    \n",
    "    if any(word in extractedGenre for word in genrelist) and len(extractedGenre) <= 25:\n",
    "        tGenre = extractedGenre.replace('-language ','').replace('language','').lstrip(' ')\n",
    "        # Remove unwanted characters\n",
    "        tGenre = tGenre.replace('-',' ').lstrip(' ').rstrip(' ')\n",
    "        # check list and see where it belongs\n",
    "        genreCnt.append(tGenre)"
   ]
  },
  {
   "cell_type": "code",
   "execution_count": 10,
   "metadata": {},
   "outputs": [
    {
     "name": "stdout",
     "output_type": "stream",
     "text": [
      "['drama ', 'drama ', 'drama ', 'mythological ', 'action ', 'thriller ', 'drama ', 'action ', 'action ', 'comedy ', 'comedy short ', 'comedy short ', 'comedy short ', 'comedy short ', 'romance ', 'historical ', 'fantasy comedy ', 'mythological ', 'mythological tamil ', 'thriller ', 'fantasy ', 'action ', 'historical - musical ', 'mythological ', 'drama ', 'thriller ', 'historical fiction ', 'thriller and suspense ', 'drama ', 'fantasy ', 'drama ', 'comedy ', 'romance - thriller ', 'drama ', '-telugu-malayalam drama ', 'drama ', 'drama ', 'drama ', 'comedy ', 'drama ', 'bilingual romance ', 'romance ', 'action ', 'drama ', 'romance ', 'drama ', 'drama ', 'romantic drama ', 'family - crime drama ', 'comedy - drama ', 'drama ', 'adventure ', 'fantasy ', 'comedy - romantic ', 'drama ', 'drama ', 'drama ', 'drama ', 'fantasy - drama ', 'drama ', 'fantasy action ', 'mythological ', 'drama ', 'fantasy - family drama ', 'action ', 'drama ', 'romantic drama ', 'mythological ', 'comedy ', 'drama ', 'comedy ', 'drama ', 'comedy-drama ', 'mythological ', 'drama ', 'drama ', 'romance ', 'romantic comedy ', 'romantic drama ', 'crime-thriller ', 'family - drama ', 'comedy-drama ', 'historical action ', 'romantic - drama ', 'drama- musical ', ', drama ', 'romantic drama ', 'comic fantasy ', 'drama ', 'drama ', 'family - drama ', 'drama ', 'drama ', 'drama ', 'drama ', 'drama ', 'drama ', 'drama ', 'drama ', 'romance ', 'drama ', 'drama ', 'thriller ', 'comedy ', 'drama ', 'drama ', 'action ', 'drama ', 'comedy-drama ', 'romantic drama ', 'drama ', 'drama ', 'drama ', 'drama ', 'drama ', 'drama ', 'romantic drama ', 'drama ', 'family drama ', 'indian drama ', 'action ', 'drama ', 'drama ', 'drama ', 'drama ', 'romantic war ', 'romance - drama ', 'thriller ', 'drama ', 'drama ', 'comedy-drama ', 'action-drama ', 'romantic comedy ', 'crime thriller ', 'indian drama ', 'family drama ', 'family drama ', 'drama ', 'drama ', 'action thriller ', 'drama ', 'romance ', 'suspense and action ', 'comedy-drama ', 'drama ', 'comedy-drama ', 'drama ', 'drama ', 'drama ', 'crime thriller ', 'mythological ', 'drama ', 'thriller ', 'thriller ', 'drama ', 'drama ', 'comedy ', 'comedy ', 'comedy drama ', 'romantic drama ', 'drama ', 'romantic comedy ', 'comic fantasy ', 'action and romantic ', 'thriller ', 'drama ', 'suspense - thriller ', 'comedy ', 'comedy ', 'drama ', 'family - drama ', 'drama ', 'crime-drama ', 'crime drama ', 'suspense thriller ', 'romance - drama ', 'romantic drama ', 'drama ', 'musical drama ', 'drama ', 'drama ', 'comedy - drama ', 'drama ', 'romantic - thriller ', 'comedy thriller ', 'drama ', 'hindu devotional drama ', 'thriller ', 'thriller ', 'thriller ', 'comedy-drama ', 'drama ', 'crime thriller ', 'comedy drama ', 'drama ', 'thriller ', 'spy thriller ', 'drama ', 'dacoit drama ', 'romantic - drama ', 'drama ', 'drama ', 'thriller drama ', 'cringe comedy ', 'social - drama ', 'drama - romantic ', 'comedy ', 'drama ', 'family - drama ', 'drama ', 'comedy family ', 'drama ', 'comedy ', 'drama ', 'romance - drama ', 'thriller ', 'family drama ', 'period drama ', 'legal drama ', 'hindu mythological ', 'comedy ', 'drama ', 'drama ', 'romantic drama ', 'comedy-drama ', 'action drama ', 'drama ', 'thriller ', 'drama ', 'drama ', 'drama ', 'drama ', 'drama ', 'family drama ', 'drama ', 'comedy - drama ', 'social drama ', 'drama ', 'family drama ', 'romantic thriller ', 'romantic drama ', 'romance ', 'drama ', 'action road ', 'drama ', 'drama ', 'drama ', 'indian fantasy ', 'adventure-comedy ', 'thriller ', 'comedy-drama ', 'drama ', 'drama ', 'drama ', 'crime ', 'drama ', 'drama ', 'thriller ', 'drama ', 'thriller ', 'indian drama ', 'drama ', 'thriller ', 'comedy ', 'drama ', 'drama ', 'romantic drama ', 'drama ', 'drama ', 'drama ', 'comedy ', 'crime-mystery ', 'thriller ', 'drama ', 'drama ', 'crime-thriller ', 'romantic drama ', 'romance ', 'thriller ', 'action comedy ', 'action ', 'drama ', 'comedy drama ', 'action ', 'drama ', 'romantic drama ', 'comedy ', 'comedy ', 'drama ', 'drama ', 'drama ', 'comedy thriller ', 'indian action ', 'drama ', 'drama ', 'romance ', 'drama ', 'drama ', 'thriller ', 'drama ', 'drama ', 'romance ', 'drama ', 'romantic drama ', 'action ', 'romantic drama ', 'drama ', 'drama ', 'drama ', 'crime-action ', 'romantic-drama ', 'drama ', 'action comedy ', 'action ', 'family - drama ', 'drama ', 'drama ', 'crime ', 'drama ', 'crime-drama ', 'romance ', 'suspense thriller ', 'drama ', 'romantic drama ', 'action comedy ', 'action drama ', 'action-drama ', 'drama ', 'action comedy ', 'family comedy ', 'thriller ', 'drama ', 'family - drama ', 'comedy ', 'crime ', 'action ', 'musical-drama ', 'thriller ', 'comedy-drama ', 'science fiction action ', 'action comedy ', 'drama ', 'drama ', 'drama ', 'crime ', 'drama ', 'thriller - drama ', 'action thriller ', 'crime ', 'drama ', 'action ', 'drama ', 'action ', 'crime ', 'romantic ', 'drama ', 'drama ', 'action drama ', 'crime ', 'fantasy-comedy ', 'legal thriller ', 'drama ', 'drama ', 'drama ', 'crime ', 'fantasy ', 'comedy ', 'comedy ', 'crime-drama ', 'drama ', 'drama ', 'drama ', 'thriller ', 'drama ', 'drama ', 'drama ', 'action ', 'drama ', 'romance ', 'crime ', 'romance ', 'thriller ', 'black comedy ', 'drama ', 'drama ', 'romantic drama ', 'romantic drama ', 'action ', 'indian action ', 'drama ', 'drama ', 'drama ', 'crime ', 'comedy-drama ', 'drama ', 'drama ', 'comedy family ', 'drama ', 'political drama ', 'comedy-drama ', 'drama ', 'drama ', 'romantic ', 'romantic drama ', 'drama ', 'drama ', 'romantic drama ', 'romantic drama ', 'crime-drama ', 'drama ', 'drama ', 'drama ', 'comedy ', 'drama ', 'drama ', 'drama ', 'crime ', 'comedy ', 'drama ', 'romantic ', 'drama ', 'drama ', 'drama ', 'drama ', 'drama ', 'drama ', 'drama ', 'romance ', 'drama ', 'drama ', 'action ', 'drama ', 'drama ', 'drama ', 'drama ', 'romantic ', 'drama ', 'crime ', 'drama ', 'drama ', 'crime ', 'drama ', 'drama ', 'comedy ', 'action ', 'drama ', 'drama ', 'drama ', 'drama ', 'action ', 'drama ', 'comedy-drama ', 'drama ', 'drama ', 'comedy-drama ', 'comedy-drama ', 'drama ', 'drama ', 'action-drama ', 'action ', 'drama ', 'romance ', 'drama ', 'thriller ', 'drama ', 'drama ', 'action ', 'drama ', 'romantic drama ', 'village drama ', 'drama ', 'romantic drama ', 'drama ', 'drama ', 'comedy ', 'romantic drama ', 'drama ', 'thriller ', 'crime ', 'crime ', 'comedy-drama ', 'romance ', 'romantic drama ', 'thriller ', 'romance ', 'action ', 'action ', 'mystery drama ', 'drama ', 'action drama ', 'drama ', 'thriller ', 'action ', 'comedy ', 'drama ', 'romantic drama ', 'drama ', 'comedy-drama ', 'action comedy heist ', 'drama ', 'crime ', 'action ', 'action romance ', 'indian drama ', 'drama ', 'drama ', 'drama ', 'comedy drama ', 'comedy ', 'comedy ', 'drama ', 'drama ', 'bilingual action ', 'comedy ', 'action drama ', 'comedy drama ', 'action ', 'action ', 'drama ', 'drama ', 'romantic comedy ', 'drama ', 'drama ', 'action ', 'drama ', 'drama ', 'action ', 'drama ', 'comedy ', 'drama ', 'drama ', 'drama ', 'drama ', 'drama ', 'drama ', 'romantic drama ', 'drama ', 'comedy ', 'romance ', 'comedy ', 'action ', 'drama ', 'drama ', 'drama ', 'drama ', 'drama ', 'comedy-drama ', 'drama ', 'drama ', 'drama ', 'drama ', 'drama ', 'comedy ', 'action ', 'comedy ', 'action ', 'drama ', 'comedy drama ', 'comedy ', 'drama ', 'drama ', 'drama ', 'romantic drama ', 'comedy ', 'drama ', 'drama ', 'crime ', 'drama ', 'romantic drama ', 'drama ', 'drama ', 'drama ', 'political drama ', 'drama ', 'drama ', 'action ', 'comedy ', 'drama ', 'science-fiction comedy ', 'drama ', 'action ', 'romantic drama ', 'comedy ', 'action ', 'drama ', 'drama ', 'drama ', 'drama ', 'romantic drama ', 'crime ', 'comedy horror ', 'action romance ', 'drama ', 'drama ', 'thriller ', 'comedy ', 'drama ', 'drama ', 'romance ', 'drama ', 'action thriller ', 'crime ', 'action ', 'drama ', 'comedy ', 'drama ', 'drama ', 'drama ', 'romantic ', 'drama ', 'action ', 'comedy-drama ', 'comedy cult ', 'romantic drama ', 'drama ', 'drama ', 'romantic ', 'action drama ', 'comedy ', 'action romance ', 'drama ', 'comedy ', 'action ', 'comedy ', 'action ', 'crime ', 'drama ', 'drama ', 'comedy ', 'thriller ', 'comedy ', 'crime ', 'action ', 'comedy ', 'mystery-thriller ', 'crime drama ', 'action ', 'comedy ', 'drama ', 'action ', 'drama ', 'drama ', 'comedy ', 'comedy drama ', 'action romance ', 'drama ', 'drama ', 'epic political drama ', 'musical romantic comedy ', 'drama ', 'drama ', 'crime ', 'comedy ', 'crime ', 'drama ', 'romance ', 'comedy ', 'fantasy ', 'drama ', 'romantic comedy ', 'romantic ', 'comedy ', 'crime ', 'drama ', 'comedy thriller ', 'comedy-drama ', 'comedy ', 'drama ', 'crime-thriller ', 'family drama ', 'comedy ', 'action ', 'comedy ', 'comedy-drama ', 'drama ', 'action ', 'romantic drama ', 'romantic musical ', 'crime ', 'comedy ', 'romance ', 'drama ', 'drama ', 'drama ', 'crime ', 'comedy ', 'drama ', 'romance ', 'drama ', 'drama ', 'romance ', 'comedy ', 'romantic drama ', 'comedy ', 'comedy-drama ', 'comedy-drama ', 'drama ', 'drama ', 'comedy ', 'romantic thriller ', 'action ', 'romantic drama ', 'romance ', 'drama ', 'drama ', 'crime ', 'comedy-drama ', 'thriller ', 'comedy ', 'romance ', 'crime ', 'action drama ', 'crime ', 'drama ', 'romantic drama ', 'drama ', 'romantic ', 'drama ', 'drama ', 'drama ', 'family drama ', 'thriller ', 'drama ', 'drama ', 'action thriller ', '-hindi bilingual romance ', 'comedy ', 'romance ', 'comedy crime ', 'drama ', 'romantic musical-action ', 'romantic musical ', 'romantic ', 'romantic comedy ', 'drama ', 'action ', 'romantic ', 'comedy ', 'crime ', 'comedy ', 'drama ', 'romantic drama ', 'romantic drama ', 'drama ', 'romantic ', 'drama ', 'family drama ', 'drama ', 'drama ', 'drama ', 'musical romantic drama ', 'action ', 'drama ', 'romance ', 'romantic comedy ', 'drama ', 'drama ', 'romantic thriller ', 'drama ', 'drama ', 'comedy-drama ', 'comedy drama ', 'drama ', 'devotional drama ', 'drama ', 'thriller ', 'drama ', 'thriller ', 'drama ', 'comedy ', 'drama ', 'drama ', 'romance ', 'comedy-drama ', 'romance ', 'mystery thriller ', 'social drama ', 'romantic ', 'action-romance ', 'comedy-drama ', 'comedy ', 'action ', 'comedy drama ', 'romantic drama ', 'romantic ', 'sports action ', 'drama ', 'comedy ', 'romantic comedy ', 'family drama ', 'romance ', 'comedy ', 'drama ', 'romance ', 'action ', 'drama ', 'romantic drama ', 'action ', 'comedy ', 'family drama ', 'drama ', 'romance ', 'romantic drama ', 'drama ', 'comedy ', 'drama ', 'romance ', 'romantic comedy ', 'thriller ', 'drama ', 'drama ', 'drama ', 'drama ', 'drama ', 'romance ', 'drama ', 'romantic thriller ', 'romantic drama ', 'drama ', 'romantic drama ', 'comedy ', 'drama ', 'action ', 'comedy ', 'action ', 'action drama ', 'romantic drama ', 'action ', 'action-drama ', 'comedy ', 'comedy ', 'romantic musical ', 'action ', 'romance ', 'drama ', 'fantasy action ', 'horror comedy ', 'comedy ', 'romantic action ', 'romantic-drama ', 'romantic drama ', 'romance ', 'comedy ', 'action masala ', 'drama ', 'romance ', 'drama ', 'romantic ', 'drama ', 'action masala ', 'comedy-drama ', 'romantic comedy ', 'musical drama ', 'romantic ', 'drama ', '] action ', 'psychological thriller ', 'romantic drama ', 'drama ', 'drama ', 'fantasy ', 'action-romantic comedy ', 'family drama ', 'crime ', 'romantic drama ', 'action ', 'romance ', 'comedy ', 'romantic action drama ', 'romantic ', 'romantic thriller ', 'romantic ', 'action drama ', 'romantic ', 'thriller ', 'drama ', 'action ', 'drama ', 'romantic comedy ', 'romantic comedy ', 'comedy drama ', 'drama ', 'romantic drama ', 'crime ', 'romantic ', 'action ', 'action comedy ', 'action ', 'crime drama ', 'romantic action ', 'romantic drama ', 'drama ', 'drama ', 'romantic drama ', 'drama ', 'fantasy ', 'drama ', 'romantic comedy drama ', 'action ', 'drama ', 'action romance ', 'action drama ', 'drama ', 'action drama ', 'action comedy ', 'drama thriller ', 'romantic ', 'action ', 'action comedy ', 'action family drama ', 'action ', 'comedy drama ', 'fantasy comedy ', 'comedy ', 'drama ', 'comedy ', 'action ', 'family-drama ', 'action ', 'drama ', 'action drama ', 'action masala ', 'romance ', 'romantic drama tragedy ', 'action drama ', 'comedy-drama ', 'drama ', 'action ', 'drama ', 'action ', 'action ', 'comedy-drama ', 'comedy ', 'drama ', 'comedy horror ', 'romance ', 'romantic comedy ', 'comedy ', 'crime-drama ', 'drama ', 'romance ', 'romance ', 'action-romance ', 'romantic drama ', 'drama ', 'romantic drama ', 'gangster thriller ', 'comedy ', 'drama ', 'action ', 'action comedy ', 'romantic comedy ', 'action ', 'action ', 'drama ', 'drama ', 'drama ', 'action drama ', 'action ', 'romantic thriller drama ', 'drama ', 'action ', 'social action ', 'comedy ', 'action ', 'romantic comedy ', 'comedy ', 'erotic thriller ', 'fantasy thriller ', 'drama ', 'romance ', 'action ', 'crime-thriller ', 'family drama ', 'action ', 'romance ', 'drama ', 'medical-thriller ', 'drama-thriller ', 'romantic thriller ', 'action ', 'action comedy ', 'political thriller ', 'action ', 'comedy ', 'drama ', 'romantic comedy ', 'action ', 'family drama ', 'drama ', 'action-family drama ', 'romance ', 'epic romantic drama ', 'drama ', 'psychological thriller ', 'drama ', 'romantic musical ', 'action-romance ', 'romance ', 'romantic thriller ', 'drama ', 'romantic ', 'adult drama ', 'science fiction comedy ', 'action ', 'romance ', 'romantic comedy ', 'action comedy ', 'psychological thriller ', 'period-drama ', 'drama ', 'drama ', 'neo-noir drama ', 'action ', 'family drama ', 'drama ', 'romantic drama ', 'comedy ', 'suspense comedy ', 'action crime thriller ', 'romantic drama ', 'action ', 'drama ', 'drama ', 'family drama ', 'mystery-adventure ', 'fantasy-comedy ', 'action ', 'mystery-adventure ', 'thriller ', 'drama ', 'period drama ', 'drama ', '-telugu bilingual action ', 'romantic thriller ', 'drama ', 'comedy ', 'romantic thriller ', 'musical romantic comedy ', 'period romantic action ', 'action ', 'drama ', 'action ', 'crime ', 'drama ', 'action comedy ', 'comedy-drama ', 'action ', 'fantasy comedy ', 'action masala ', 'drama ', 'drama ', 'romantic comedy ', 'drama thriller ', 'action ', 'romantic comedy ', 'drama ', 'action ', 'thriller ', 'drama-thriller ', 'drama ', 'action thriller ', 'action comedy ', 'drama ', 'drama-thriller ', 'romantic comedy ', 'thriller ', 'war adventure ', 'action-comedy ', 'romantic comedy ', 'romantic drama ', 'romantic mystery ', 'action-drama ', 'action ', 'action crime thriller ', 'action ', 'action ', 'romantic drama ', 'romantic ', 'romantic drama ', 'romantic drama ', 'memoir-drama ', 'adventure ', 'heist-thriller ', 'comedy ', 'action drama ', 'drama ', 'drama ', 'romantic comedy ', 'thriller ', 'romantic drama ', 'romance ', 'drama ', 'romance ', 'romantic drama ', 'drama ', 'action ', 'drama ', 'western comedy ', 'action ', 'comedy ', 'action ', 'comedy drama ', 'action ', 'action masala ', 'epic adventure ', 'action ', 'comedy drama ', 'period drama ', 'drama ', 'romance ', 'romance ', 'action ', 'romantic drama ', 'action comedy ', 'action ', 'comedy ', 'action ', 'action ', 'action ', 'drama ', 'romantic drama ', 'action ', 'action ', 'romance ', 'action ', 'action drama ', 'romance ', 'action ', 'action-comedy ', 'teluguthriller ', 'romantic comedy ', 'drama ', 'drama ', 'drama ', 'drama ', 'drama ', 'action ', 'drama ', 'action ', 'neo-noir crime thriller ', 'action-masala ', 'action-masala ', 'action masala ', 'psychological thriller ', 'action-masala ', 'drama ', 'drama ', 'drama ', 'teluguthriller ', 'fantasy-thriller ', 'romantic action comedy ', 'political thriller ', 'comedy ', 'drama ', 'drama ', 'romantic drama ', 'drama ', 'crime thriller ', 'comedy-drama ', 'romantic drama ', 'action-romance ', 'action masala ', 'legal drama ', 'horror comedy ', 'sports-comedy ', 'action ', 'action drama ', 'romantic comedy ', 'action ', 'romance ', 'action ', 'indian thriller feature ', 'action-thriller ', 'action ', 'political drama ', 'romantic comedy ', 'drama ', 'docudrama crime ', 'action ', 'action ', 'drama ', 'action thriller ', 'action masala ', 'coming-of-age comedy ', 'action comedy ', 'comedy ', 'drama ', 'romantic thriller ', 'epic historical fiction ', 'action ', 'action ', 'romantic comedy ', 'indian thriller feature ', 'romantic comedy ', 'crime thriller ', 'comedy ', 'romantic drama ', 'romance ', 'romantic comedy ', 'thriller ', 'romance ', 'romance ', 'action ', 'political satire-comedy ', 'romantic ', 'action romantic comedy ', 'romantic thriller ', 'action ', 'romantic comedy ', 'thriller ', 'action-romance ', 'romantic comedy ', 'psychological thriller ', 'comedy ', 'comedy drama ', 'drama ', 'spy thriller ', 'action comedy ', 'drama ', 'drama ', 'romantic musical ', 'black comedy ', 'drama ', 'romance ', 'action ', 'mystery thriller ', 'crime-drama ', 'drama ', 'romance ', 'biographical action ', 'thriller ', 'comedy ', 'period drama ', 'drama ', 'drama ', 'thriller ', 'coming-of-age comedy ', 'comedy ', 'action ', 'adult comedy ', 'sports comedy ', 'romance ', 'black comedy-crime ', 'supernatural thriller ', 'drama ', 'romantic comedy ', 'comedy ', 'comedy thriller ', 'action ', 'romantic survival ', 'action ', 'comedy ', 'crime-drama ', 'comedy ', 'drama ', 'romantic comedy ', 'crime thriller ', 'comedy drama ', 'neo-noir crime thriller ', 'comedy ', 'romantic comedy ', 'romantic comedy ', 'drama ', 'drama ', 'drama ', 'drama ', 'black comedy ', 'action-thriller ', 'action-drama-thriller ', 'road comedy thriller ', 'thriller ', 'romantic comedy ', 'romantic comedy ', 'action mystery drama ', 'crime-comedy ', 'crime-drama ', 'action ', 'drama ', 'comedy ', 'romantic drama ', 'comedy-drama ', 'comedy thriller ', 'comedy ', 'family drama ', 'thriller ', 'sports drama ', 'romantic drama ', 'magical realism comedy ', 'tragedy drama ', 'black comedy-thriller ', 'thriller ', 'romantic comedy ', 'romantic comedy ', 'bilingual thriller ', 'horror comedy ', 'action comedy ', 'comedy drama ', 'period comedy ', 'drama ', 'comedy-thriller ', 'action ', 'drama-thriller ', 'thriller ', 'drama ', 'action thriller ', 'romance ', 'drama ', 'heist-thriller ', 'comedy-drama ', 'romance ', 'black comedy-crime ', 'action ', 'comedy ', 'action ', 'action thriller ', 'romantic drama ', 'comedy ', 'thriller ', 'comedy ', 'thriller ', 'horror comedy ', 'drama ', 'sports drama ', 'drama ', 'black comedy drama cult ', 'drama ', 'action masala ', 'comedy ', 'drama ', 'action comedy ', 'comedy thriller ', 'action drama ', 'historical fiction ', 'drama ', 'comedy ', 'fantasy horror-', 'action ', 'thriller ', 'comedy ', 'romance ', 'spy action drama ', 'comedy ', 'action comedy ', 'horror comedy ', 'romantic thriller ', 'action ', 'comedy drama ', 'romantic thriller ', 'action thriller ', 'action masala ', 'comedy drama ', 'comedy thriller ', 'romantic musical ', 'crime ', 'independent thriller ', 'action-drama ', 'thriller ', 'action ', 'action-drama ', 'action ', 'drama ', 'horror comedy ', 'romantic drama ', 'psychological thriller ', 'thriller ', 'comedy dramameta', 'romantic comedy ', 'comedy-drama ', 'political crime drama ', 'drama ', 'comedy-drama ', 'romantic drama ', 'romantic comedy ', 'romantic comedy ', 'crime thriller ', 'spy comedy ', 'action crime thriller ', 'comedy ', 'comedy-drama ', 'drama thriller ', 'gangster comedy ', 'comedy ', 'horror comedy ', 'romantic comedy ', 'comedy ', 'comedy ', 'romantic comedy ', 'drama ', 'action ', 'action-drama ', 'action dramtic thriller ', 'comedy drama ', 'comic science fiction ', 'horror comedy ', 'action comedy ', 'sex comedy ', 'thriller ', 'independent drama ', 'action ', 'black comedy ', 'supernatural drama ', 'action-masala ', 'thriller ', 'comedy ', 'comedy drama ', 'action ', 'sports-action ', 'comedy ', 'romantic drama ', 'horror comedy ', 'comedy ', 'comedy horror ', 'comedy-drama ', 'action comedy ', 'drama ', 'comedy-drama ', 'comedy ', '-indian crime-thriller ', 'action thriller ', 'drama ', 'action drama thriller ', 'fantasy comedy ', 'comedy horror ', 'action romantic comedy ', 'action thriller ', 'thriller ', 'romantic comedy ', 'psycho-comedy ', 'fantasy horror ', 'romantic drama ', 'horror comedy ', 'suspense drama ', 'drama ', 'political thriller ', 'mystery thriller ', 'action drama ', 'drama ', 'political comedy ', 'comedy-drama ', 'romantic comedy ', 'mafia comedy ', 'drama ', 'action ', 'horror comedy ', 'slapstick comedy-horror ', 'gangster-drama ', 'action ', 'action ', 'drama ', 'comedy ', 'musical-romance ', 'action ', 'action-mystery ']\n"
     ]
    }
   ],
   "source": [
    "\n",
    "print (genreCnt)\n"
   ]
  },
  {
   "cell_type": "code",
   "execution_count": null,
   "metadata": {},
   "outputs": [],
   "source": []
  },
  {
   "cell_type": "code",
   "execution_count": null,
   "metadata": {
    "collapsed": true
   },
   "outputs": [],
   "source": []
  }
 ],
 "metadata": {
  "kernelspec": {
   "display_name": "Python [default]",
   "language": "python",
   "name": "python3"
  },
  "language_info": {
   "codemirror_mode": {
    "name": "ipython",
    "version": 3
   },
   "file_extension": ".py",
   "mimetype": "text/x-python",
   "name": "python",
   "nbconvert_exporter": "python",
   "pygments_lexer": "ipython3",
   "version": "3.5.4"
  }
 },
 "nbformat": 4,
 "nbformat_minor": 2
}
